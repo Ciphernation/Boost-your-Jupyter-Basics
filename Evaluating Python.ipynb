{
 "cells": [
  {
   "cell_type": "markdown",
   "id": "786260b5",
   "metadata": {},
   "source": [
    "# Boost your Jupyter Basics"
   ]
  },
  {
   "cell_type": "markdown",
   "id": "2f822ad9",
   "metadata": {},
   "source": [
    "This project is created to check the understanding so far with the help of the given course. For this further steps will be followed to answer the questions and complete the tasks provided by the assignment."
   ]
  },
  {
   "cell_type": "code",
   "execution_count": null,
   "id": "c52f9910",
   "metadata": {},
   "outputs": [],
   "source": []
  },
  {
   "cell_type": "markdown",
   "id": "bcdf8193",
   "metadata": {},
   "source": [
    "Data Science Languages:- \n",
    "* Python\n",
    "* R\n",
    "* SQL\n",
    "* Java\n",
    "* C#"
   ]
  },
  {
   "cell_type": "code",
   "execution_count": null,
   "id": "31c34f59",
   "metadata": {},
   "outputs": [],
   "source": []
  },
  {
   "cell_type": "markdown",
   "id": "28ebe55d",
   "metadata": {},
   "source": [
    "Data Science Libraries used will be:-\n",
    "* 1. Pandas\n",
    "* 2. Numpy\n",
    "* 3. Matplotlib\n",
    "* 4. Seaborn\n",
    "* 5. Scikitlearn\n",
    "* 6. BeautifulSoups"
   ]
  },
  {
   "cell_type": "code",
   "execution_count": null,
   "id": "03c816f9",
   "metadata": {},
   "outputs": [],
   "source": []
  },
  {
   "cell_type": "markdown",
   "id": "3f147cec",
   "metadata": {},
   "source": [
    "| S no. | DataScience Tools |\n",
    "| --- | --- |\n",
    "| 1. | Python |\n",
    "| 2. | R |\n",
    "| 3. | Jupyter Notebook |\n",
    "| 4. | SQL |\n",
    "| 5. | NoSQL |\n",
    "| 6. | The Command Line |\n",
    "| 7. | Cloud |\n",
    "| 8. | Git |\n",
    "| 9. | VS Code |\n",
    "| 10. | Watson Studio |\n",
    "| 11. | Spark |"
   ]
  },
  {
   "cell_type": "code",
   "execution_count": 4,
   "id": "b9dee7f9",
   "metadata": {},
   "outputs": [
    {
     "name": "stdout",
     "output_type": "stream",
     "text": [
      "42.0\n"
     ]
    }
   ],
   "source": [
    "print(100 / 5 * 2 + 4 - 2)"
   ]
  },
  {
   "cell_type": "code",
   "execution_count": null,
   "id": "ecdd5c4a",
   "metadata": {},
   "outputs": [],
   "source": []
  },
  {
   "cell_type": "code",
   "execution_count": 2,
   "id": "1f7f8956",
   "metadata": {},
   "outputs": [
    {
     "name": "stdout",
     "output_type": "stream",
     "text": [
      "10\n",
      "7\n"
     ]
    }
   ],
   "source": [
    "print(5 * 2)\n",
    "print(5 + 2)"
   ]
  },
  {
   "cell_type": "code",
   "execution_count": 3,
   "id": "40bd231b",
   "metadata": {},
   "outputs": [
    {
     "name": "stdout",
     "output_type": "stream",
     "text": [
      "Hours of given minutes are:  2\n"
     ]
    }
   ],
   "source": [
    "Minutes = 120\n",
    "print('Hours of given minutes are: ', Minutes//60)"
   ]
  },
  {
   "cell_type": "code",
   "execution_count": null,
   "id": "0cfa7990",
   "metadata": {},
   "outputs": [],
   "source": []
  },
  {
   "cell_type": "markdown",
   "id": "9d48c101",
   "metadata": {},
   "source": [
    "Objectives:-\n",
    "* To check the Understanding so far\n",
    "* To see where we are lacking\n",
    "* Understanding of Libraries\n",
    "* Understanding of Tools\n",
    "* Understanding of Scope\n",
    "* Understanding of Langauges\n",
    "* Understanding of Requirements"
   ]
  },
  {
   "cell_type": "code",
   "execution_count": null,
   "id": "6a445c93",
   "metadata": {},
   "outputs": [],
   "source": []
  },
  {
   "cell_type": "markdown",
   "id": "7ca842e6",
   "metadata": {},
   "source": [
    "## Author\n",
    " [Muskan]"
   ]
  },
  {
   "cell_type": "code",
   "execution_count": null,
   "id": "25582bae",
   "metadata": {},
   "outputs": [],
   "source": []
  },
  {
   "cell_type": "code",
   "execution_count": null,
   "id": "e7a3c12f",
   "metadata": {},
   "outputs": [],
   "source": []
  },
  {
   "cell_type": "code",
   "execution_count": null,
   "id": "e35eb18b",
   "metadata": {},
   "outputs": [],
   "source": []
  },
  {
   "cell_type": "code",
   "execution_count": null,
   "id": "201a9878",
   "metadata": {},
   "outputs": [],
   "source": []
  },
  {
   "cell_type": "code",
   "execution_count": null,
   "id": "82010adf",
   "metadata": {},
   "outputs": [],
   "source": []
  },
  {
   "cell_type": "code",
   "execution_count": null,
   "id": "78b1150a",
   "metadata": {},
   "outputs": [],
   "source": []
  }
 ],
 "metadata": {
  "kernelspec": {
   "display_name": "Python 3 (ipykernel)",
   "language": "python",
   "name": "python3"
  },
  "language_info": {
   "codemirror_mode": {
    "name": "ipython",
    "version": 3
   },
   "file_extension": ".py",
   "mimetype": "text/x-python",
   "name": "python",
   "nbconvert_exporter": "python",
   "pygments_lexer": "ipython3",
   "version": "3.9.12"
  }
 },
 "nbformat": 4,
 "nbformat_minor": 5
}
